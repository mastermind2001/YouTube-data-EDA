{
 "cells": [
  {
   "cell_type": "code",
   "execution_count": 1,
   "metadata": {
    "id": "7bFxXxQ2iltC"
   },
   "outputs": [],
   "source": [
    "import numpy as np\n",
    "import pandas as pd\n",
    "import matplotlib.pyplot as plt\n",
    "from sklearn.model_selection import train_test_split\n",
    "from sklearn.linear_model import LinearRegression\n",
    "import seaborn as sns\n",
    "import warnings\n",
    "\n",
    "%matplotlib inline\n",
    "pd.set_option('display.float_format', lambda x: '%.3f' % x)\n",
    "pd.set_option('display.max_columns', 20)\n",
    "warnings.filterwarnings('ignore')"
   ]
  },
  {
   "cell_type": "code",
   "execution_count": 2,
   "metadata": {
    "id": "NeYoiLw6vp5c"
   },
   "outputs": [],
   "source": [
    "data = pd.read_csv('/content/drive/MyDrive/Dataset/train.csv')"
   ]
  },
  {
   "cell_type": "code",
   "execution_count": 3,
   "metadata": {
    "colab": {
     "base_uri": "https://localhost:8080/",
     "height": 569
    },
    "id": "PNLx7uaWvyYC",
    "outputId": "7b1cf7be-e0a1-4482-e0d4-346cd9c78340"
   },
   "outputs": [
    {
     "data": {
      "text/html": [
       "<div>\n",
       "<style scoped>\n",
       "    .dataframe tbody tr th:only-of-type {\n",
       "        vertical-align: middle;\n",
       "    }\n",
       "\n",
       "    .dataframe tbody tr th {\n",
       "        vertical-align: top;\n",
       "    }\n",
       "\n",
       "    .dataframe thead th {\n",
       "        text-align: right;\n",
       "    }\n",
       "</style>\n",
       "<table border=\"1\" class=\"dataframe\">\n",
       "  <thead>\n",
       "    <tr style=\"text-align: right;\">\n",
       "      <th></th>\n",
       "      <th>Video_id</th>\n",
       "      <th>category_id</th>\n",
       "      <th>channel_title</th>\n",
       "      <th>subscriber</th>\n",
       "      <th>title</th>\n",
       "      <th>tags</th>\n",
       "      <th>description</th>\n",
       "      <th>Trend_day_count</th>\n",
       "      <th>Tag_count</th>\n",
       "      <th>Trend_tag_count</th>\n",
       "      <th>comment_count</th>\n",
       "      <th>comment_disabled</th>\n",
       "      <th>like dislike disabled</th>\n",
       "      <th>likes</th>\n",
       "      <th>dislike</th>\n",
       "      <th>tag appered in title</th>\n",
       "      <th>views</th>\n",
       "      <th>Unnamed: 17</th>\n",
       "      <th>Unnamed: 18</th>\n",
       "    </tr>\n",
       "  </thead>\n",
       "  <tbody>\n",
       "    <tr>\n",
       "      <th>0</th>\n",
       "      <td>HDR9SQc79</td>\n",
       "      <td>22</td>\n",
       "      <td>CaseyNeistat</td>\n",
       "      <td>9086142.000</td>\n",
       "      <td>WE WANT TO TALK ABOUT OUR MARRIAGE</td>\n",
       "      <td>SHANtell martin</td>\n",
       "      <td>SHANTELL'S CHANNEL - https://www.youtube.com/s...</td>\n",
       "      <td>6.000</td>\n",
       "      <td>21</td>\n",
       "      <td>6</td>\n",
       "      <td></td>\n",
       "      <td>FALSE</td>\n",
       "      <td>FALSE</td>\n",
       "      <td>13342</td>\n",
       "      <td>6089</td>\n",
       "      <td>False</td>\n",
       "      <td>1978978</td>\n",
       "      <td>nan</td>\n",
       "      <td>NaN</td>\n",
       "    </tr>\n",
       "    <tr>\n",
       "      <th>1</th>\n",
       "      <td>KNH52UF?48</td>\n",
       "      <td>24</td>\n",
       "      <td>LastWeekTonight</td>\n",
       "      <td>5937292.000</td>\n",
       "      <td>The Trump Presidency: Last Week Tonight with J...</td>\n",
       "      <td>last week tonight trump presidency|last week t...</td>\n",
       "      <td>One year after the presidential election, John...</td>\n",
       "      <td>1.000</td>\n",
       "      <td>23</td>\n",
       "      <td>1</td>\n",
       "      <td>116266</td>\n",
       "      <td>TRUE</td>\n",
       "      <td>FALSE</td>\n",
       "      <td>5761</td>\n",
       "      <td>3044</td>\n",
       "      <td>False</td>\n",
       "      <td>1487870</td>\n",
       "      <td>nan</td>\n",
       "      <td>NaN</td>\n",
       "    </tr>\n",
       "    <tr>\n",
       "      <th>2</th>\n",
       "      <td>QTW28IRG36</td>\n",
       "      <td>23</td>\n",
       "      <td>Rudy Mancuso</td>\n",
       "      <td>4191209.000</td>\n",
       "      <td>Racist Superman | Rudy Mancuso, King Bach &amp; Le...</td>\n",
       "      <td>racist superman|rudy|mancuso|king|bach|racist|...</td>\n",
       "      <td>WATCH MY PREVIOUS VIDEO ▶ \\n\\nSUBSCRIBE ► http...</td>\n",
       "      <td>10.000</td>\n",
       "      <td>22</td>\n",
       "      <td>3</td>\n",
       "      <td>257850</td>\n",
       "      <td>TRUE</td>\n",
       "      <td>TRUE</td>\n",
       "      <td>0</td>\n",
       "      <td>0</td>\n",
       "      <td>True</td>\n",
       "      <td>1502102</td>\n",
       "      <td>nan</td>\n",
       "      <td>NaN</td>\n",
       "    </tr>\n",
       "    <tr>\n",
       "      <th>3</th>\n",
       "      <td>MGL76WI]26</td>\n",
       "      <td>24</td>\n",
       "      <td>Good Mythical Morning</td>\n",
       "      <td>13186408.000</td>\n",
       "      <td>Nickelback Lyrics: Real or Fake?</td>\n",
       "      <td>rhett and link|gmm|good mythical morning|rhett...</td>\n",
       "      <td>Today we find out if Link is a Nickelback amat...</td>\n",
       "      <td>12.000</td>\n",
       "      <td>17</td>\n",
       "      <td>5</td>\n",
       "      <td>263939</td>\n",
       "      <td>TRUE</td>\n",
       "      <td>TRUE</td>\n",
       "      <td>0</td>\n",
       "      <td>0</td>\n",
       "      <td>True</td>\n",
       "      <td>3519302</td>\n",
       "      <td>nan</td>\n",
       "      <td>NaN</td>\n",
       "    </tr>\n",
       "    <tr>\n",
       "      <th>4</th>\n",
       "      <td>TWP93KXT70</td>\n",
       "      <td>24</td>\n",
       "      <td>nigahiga</td>\n",
       "      <td>20563106.000</td>\n",
       "      <td>I Dare You: GOING BALD!?</td>\n",
       "      <td>ryan|higa|higatv|nigahiga|i dare you|idy|rhpc|...</td>\n",
       "      <td>I know it's been a while since we did this sho...</td>\n",
       "      <td>11.000</td>\n",
       "      <td>15</td>\n",
       "      <td>7</td>\n",
       "      <td>268085</td>\n",
       "      <td>TRUE</td>\n",
       "      <td>TRUE</td>\n",
       "      <td>0</td>\n",
       "      <td>0</td>\n",
       "      <td>True</td>\n",
       "      <td>4835374</td>\n",
       "      <td>nan</td>\n",
       "      <td>NaN</td>\n",
       "    </tr>\n",
       "  </tbody>\n",
       "</table>\n",
       "</div>"
      ],
      "text/plain": [
       "     Video_id category_id          channel_title   subscriber  \\\n",
       "0   HDR9SQc79          22           CaseyNeistat  9086142.000   \n",
       "1  KNH52UF?48          24        LastWeekTonight  5937292.000   \n",
       "2  QTW28IRG36          23           Rudy Mancuso  4191209.000   \n",
       "3  MGL76WI]26          24  Good Mythical Morning 13186408.000   \n",
       "4  TWP93KXT70          24               nigahiga 20563106.000   \n",
       "\n",
       "                                               title  \\\n",
       "0                 WE WANT TO TALK ABOUT OUR MARRIAGE   \n",
       "1  The Trump Presidency: Last Week Tonight with J...   \n",
       "2  Racist Superman | Rudy Mancuso, King Bach & Le...   \n",
       "3                   Nickelback Lyrics: Real or Fake?   \n",
       "4                           I Dare You: GOING BALD!?   \n",
       "\n",
       "                                                tags  \\\n",
       "0                                    SHANtell martin   \n",
       "1  last week tonight trump presidency|last week t...   \n",
       "2  racist superman|rudy|mancuso|king|bach|racist|...   \n",
       "3  rhett and link|gmm|good mythical morning|rhett...   \n",
       "4  ryan|higa|higatv|nigahiga|i dare you|idy|rhpc|...   \n",
       "\n",
       "                                         description  Trend_day_count  \\\n",
       "0  SHANTELL'S CHANNEL - https://www.youtube.com/s...            6.000   \n",
       "1  One year after the presidential election, John...            1.000   \n",
       "2  WATCH MY PREVIOUS VIDEO ▶ \\n\\nSUBSCRIBE ► http...           10.000   \n",
       "3  Today we find out if Link is a Nickelback amat...           12.000   \n",
       "4  I know it's been a while since we did this sho...           11.000   \n",
       "\n",
       "  Tag_count Trend_tag_count comment_count comment_disabled  \\\n",
       "0        21               6                          FALSE   \n",
       "1        23               1        116266             TRUE   \n",
       "2        22               3        257850             TRUE   \n",
       "3        17               5        263939             TRUE   \n",
       "4        15               7        268085             TRUE   \n",
       "\n",
       "  like dislike disabled  likes dislike tag appered in title    views  \\\n",
       "0                 FALSE  13342    6089                False  1978978   \n",
       "1                 FALSE   5761    3044                False  1487870   \n",
       "2                  TRUE      0       0                 True  1502102   \n",
       "3                  TRUE      0       0                 True  3519302   \n",
       "4                  TRUE      0       0                 True  4835374   \n",
       "\n",
       "   Unnamed: 17 Unnamed: 18  \n",
       "0          nan         NaN  \n",
       "1          nan         NaN  \n",
       "2          nan         NaN  \n",
       "3          nan         NaN  \n",
       "4          nan         NaN  "
      ]
     },
     "execution_count": 3,
     "metadata": {
      "tags": []
     },
     "output_type": "execute_result"
    }
   ],
   "source": [
    "data.head(5)"
   ]
  },
  {
   "cell_type": "markdown",
   "metadata": {
    "id": "RK-BbchswTFl"
   },
   "source": [
    "**Data Cleaning**"
   ]
  },
  {
   "cell_type": "code",
   "execution_count": 4,
   "metadata": {
    "colab": {
     "base_uri": "https://localhost:8080/"
    },
    "id": "b4Gb_qiBv0Gv",
    "outputId": "438bd19b-201f-4956-f616-afa02b4a4168"
   },
   "outputs": [
    {
     "name": "stdout",
     "output_type": "stream",
     "text": [
      "Number of rows in data :  3198\n",
      "Number of columns in data :  19\n"
     ]
    }
   ],
   "source": [
    "rows = len(data)\n",
    "cols = len(data.columns)\n",
    "print('Number of rows in data : ', rows)\n",
    "print('Number of columns in data : ', cols)"
   ]
  },
  {
   "cell_type": "code",
   "execution_count": 5,
   "metadata": {
    "colab": {
     "base_uri": "https://localhost:8080/"
    },
    "id": "x5ivzJzWw5gN",
    "outputId": "fcc4f6cb-99cc-440e-b901-defa4df3c3b2"
   },
   "outputs": [
    {
     "data": {
      "text/plain": [
       "Index(['Video_id', 'category_id', 'channel_title', 'subscriber', 'title',\n",
       "       'tags', 'description', 'Trend_day_count', 'Tag_count',\n",
       "       'Trend_tag_count', 'comment_count', 'comment_disabled',\n",
       "       'like dislike disabled', 'likes', 'dislike', 'tag appered in title',\n",
       "       'views', 'Unnamed: 17', 'Unnamed: 18'],\n",
       "      dtype='object')"
      ]
     },
     "execution_count": 5,
     "metadata": {
      "tags": []
     },
     "output_type": "execute_result"
    }
   ],
   "source": [
    "data.columns"
   ]
  },
  {
   "cell_type": "markdown",
   "metadata": {
    "id": "b2KvjeV60qoJ"
   },
   "source": [
    "**It seems like there are two unnamed columns in our data. Let's check them out first**"
   ]
  },
  {
   "cell_type": "code",
   "execution_count": 6,
   "metadata": {
    "colab": {
     "base_uri": "https://localhost:8080/"
    },
    "id": "DIPmaI9myIAv",
    "outputId": "50c94858-d379-451f-9a5b-ed594a239f39"
   },
   "outputs": [
    {
     "data": {
      "text/plain": [
       "0   nan\n",
       "1   nan\n",
       "2   nan\n",
       "3   nan\n",
       "4   nan\n",
       "Name: Unnamed: 17, dtype: float64"
      ]
     },
     "execution_count": 6,
     "metadata": {
      "tags": []
     },
     "output_type": "execute_result"
    }
   ],
   "source": [
    "data['Unnamed: 17'].head()"
   ]
  },
  {
   "cell_type": "code",
   "execution_count": 7,
   "metadata": {
    "colab": {
     "base_uri": "https://localhost:8080/"
    },
    "id": "gvodmOdE1sJ-",
    "outputId": "215f67c4-3f6a-449e-d320-f22362e2caca"
   },
   "outputs": [
    {
     "name": "stdout",
     "output_type": "stream",
     "text": [
      "Total number of null values in column \"Unnamed: 17\" :  3197\n"
     ]
    }
   ],
   "source": [
    "print('Total number of null values in column \"Unnamed: 17\" : ', sum(data['Unnamed: 17'].isnull()))"
   ]
  },
  {
   "cell_type": "markdown",
   "metadata": {
    "id": "u7zmtsQ42FT2"
   },
   "source": [
    "**So, it confirms that column \"Unnamed: 17\" only contains null values in almost each row. It will most probably not affect the whole data if I drop this column.**"
   ]
  },
  {
   "cell_type": "code",
   "execution_count": 8,
   "metadata": {
    "colab": {
     "base_uri": "https://localhost:8080/"
    },
    "id": "gmeHZOr02iJ6",
    "outputId": "dc736b4c-8955-459d-908b-d6a49047b3e4"
   },
   "outputs": [
    {
     "data": {
      "text/plain": [
       "0    NaN\n",
       "1    NaN\n",
       "2    NaN\n",
       "3    NaN\n",
       "4    NaN\n",
       "Name: Unnamed: 18, dtype: object"
      ]
     },
     "execution_count": 8,
     "metadata": {
      "tags": []
     },
     "output_type": "execute_result"
    }
   ],
   "source": [
    "data['Unnamed: 18'].head()"
   ]
  },
  {
   "cell_type": "code",
   "execution_count": 9,
   "metadata": {
    "colab": {
     "base_uri": "https://localhost:8080/"
    },
    "id": "ANNjwm_i2ul-",
    "outputId": "e820feb4-c1ec-48a5-91df-7dc38eb11125"
   },
   "outputs": [
    {
     "name": "stdout",
     "output_type": "stream",
     "text": [
      "Total number of null values in column \"Unnamed: 18\" :  3197\n"
     ]
    }
   ],
   "source": [
    "print('Total number of null values in column \"Unnamed: 18\" : ', sum(data['Unnamed: 18'].isnull()))"
   ]
  },
  {
   "cell_type": "markdown",
   "metadata": {
    "id": "tFidnNw624Yh"
   },
   "source": [
    "**We can also drop the column \"Unnamed: 18\"**"
   ]
  },
  {
   "cell_type": "code",
   "execution_count": 10,
   "metadata": {
    "id": "GQI1Hq9k1jD0"
   },
   "outputs": [],
   "source": [
    "data.drop(columns=['Unnamed: 17', 'Unnamed: 18'], inplace=True)"
   ]
  },
  {
   "cell_type": "code",
   "execution_count": 11,
   "metadata": {
    "colab": {
     "base_uri": "https://localhost:8080/"
    },
    "id": "jJMquJcR2x-m",
    "outputId": "8d0a9c27-3376-47f0-fe84-51a7fbbd0e43"
   },
   "outputs": [
    {
     "data": {
      "text/plain": [
       "Index(['Video_id', 'category_id', 'channel_title', 'subscriber', 'title',\n",
       "       'tags', 'description', 'Trend_day_count', 'Tag_count',\n",
       "       'Trend_tag_count', 'comment_count', 'comment_disabled',\n",
       "       'like dislike disabled', 'likes', 'dislike', 'tag appered in title',\n",
       "       'views'],\n",
       "      dtype='object')"
      ]
     },
     "execution_count": 11,
     "metadata": {
      "tags": []
     },
     "output_type": "execute_result"
    }
   ],
   "source": [
    "#Let's check the columns again\n",
    "data.columns"
   ]
  },
  {
   "cell_type": "code",
   "execution_count": 12,
   "metadata": {
    "id": "m5pdUCpM3NjT"
   },
   "outputs": [],
   "source": [
    "#Let's change the name of every column to lower case for convinience\n",
    "data.columns = [c.lower() for c in data.columns]"
   ]
  },
  {
   "cell_type": "code",
   "execution_count": 13,
   "metadata": {
    "colab": {
     "base_uri": "https://localhost:8080/"
    },
    "id": "85Lhx3Qq35ut",
    "outputId": "52aec1bc-9f14-47b5-f533-a546f065835e"
   },
   "outputs": [
    {
     "data": {
      "text/plain": [
       "Index(['video_id', 'category_id', 'channel_title', 'subscriber', 'title',\n",
       "       'tags', 'description', 'trend_day_count', 'tag_count',\n",
       "       'trend_tag_count', 'comment_count', 'comment_disabled',\n",
       "       'like dislike disabled', 'likes', 'dislike', 'tag appered in title',\n",
       "       'views'],\n",
       "      dtype='object')"
      ]
     },
     "execution_count": 13,
     "metadata": {
      "tags": []
     },
     "output_type": "execute_result"
    }
   ],
   "source": [
    "data.columns"
   ]
  },
  {
   "cell_type": "code",
   "execution_count": 14,
   "metadata": {
    "colab": {
     "base_uri": "https://localhost:8080/"
    },
    "id": "T9fJHwKv4AvJ",
    "outputId": "e546d650-cb70-4307-c887-2d4e3b26e036"
   },
   "outputs": [
    {
     "data": {
      "text/plain": [
       "0        HDR9SQc79\n",
       "1       KNH52UF?48\n",
       "2       QTW28IRG36\n",
       "3       MGL76WI]26\n",
       "4       TWP93KXT70\n",
       "           ...    \n",
       "3193    OKR48DOE67\n",
       "3194    QJK69DS?91\n",
       "3195    VHF51NVr11\n",
       "3196    XHU22OAJ39\n",
       "3197    IFD79NSG47\n",
       "Name: video_id, Length: 3198, dtype: object"
      ]
     },
     "execution_count": 14,
     "metadata": {
      "tags": []
     },
     "output_type": "execute_result"
    }
   ],
   "source": [
    "#Let's analyse video_id column\n",
    "data['video_id']"
   ]
  },
  {
   "cell_type": "code",
   "execution_count": 15,
   "metadata": {
    "colab": {
     "base_uri": "https://localhost:8080/"
    },
    "id": "JhjdwDKs5shD",
    "outputId": "bfda9c13-5c98-4d72-c3de-ab69aea842f4"
   },
   "outputs": [
    {
     "name": "stdout",
     "output_type": "stream",
     "text": [
      "Null values in \"video_id\" column : 0\n"
     ]
    }
   ],
   "source": [
    "print('Null values in \"video_id\" column :', sum(data['video_id'].isnull()))"
   ]
  },
  {
   "cell_type": "code",
   "execution_count": 16,
   "metadata": {
    "colab": {
     "base_uri": "https://localhost:8080/"
    },
    "id": "qDYUXha94XhM",
    "outputId": "d97b8ca3-c2dd-4130-bd98-761b7271d6a9"
   },
   "outputs": [
    {
     "data": {
      "text/plain": [
       "3198"
      ]
     },
     "execution_count": 16,
     "metadata": {
      "tags": []
     },
     "output_type": "execute_result"
    }
   ],
   "source": [
    "len(data['video_id'].unique())"
   ]
  },
  {
   "cell_type": "code",
   "execution_count": 17,
   "metadata": {
    "id": "Uv-6Sxfz5jSy"
   },
   "outputs": [],
   "source": [
    "# As video_id is unique for every video we can use it as an index column\n",
    "data.set_index('video_id', inplace=True)"
   ]
  },
  {
   "cell_type": "code",
   "execution_count": 19,
   "metadata": {
    "colab": {
     "base_uri": "https://localhost:8080/"
    },
    "id": "nZmZaSPg5d2A",
    "outputId": "2db19525-e288-45c6-c939-931fa644aec1"
   },
   "outputs": [
    {
     "data": {
      "text/plain": [
       "video_id\n",
       "HDR9SQc79     22\n",
       "KNH52UF?48    24\n",
       "QTW28IRG36    23\n",
       "MGL76WI]26    24\n",
       "TWP93KXT70    24\n",
       "              ..\n",
       "OKR48DOE67    20\n",
       "QJK69DS?91    10\n",
       "VHF51NVr11    10\n",
       "XHU22OAJ39    26\n",
       "IFD79NSG47    22\n",
       "Name: category_id, Length: 3198, dtype: object"
      ]
     },
     "execution_count": 19,
     "metadata": {
      "tags": []
     },
     "output_type": "execute_result"
    }
   ],
   "source": [
    "#Now let's analyse the category_id column\n",
    "data['category_id']"
   ]
  },
  {
   "cell_type": "code",
   "execution_count": 20,
   "metadata": {
    "colab": {
     "base_uri": "https://localhost:8080/"
    },
    "id": "pSjUPOOSBmZn",
    "outputId": "fec11f0e-e7c8-48fb-9a7c-083d00df84be"
   },
   "outputs": [
    {
     "data": {
      "text/plain": [
       "array(['22', '24', '23', '28', '1', '25', '17', '10', '15', '27', '26',\n",
       "       '2', '19', '20', nan, '29', '“24', '43'], dtype=object)"
      ]
     },
     "execution_count": 20,
     "metadata": {
      "tags": []
     },
     "output_type": "execute_result"
    }
   ],
   "source": [
    "#Unique values in category_id column\n",
    "data['category_id'].unique()"
   ]
  },
  {
   "cell_type": "code",
   "execution_count": 21,
   "metadata": {
    "colab": {
     "base_uri": "https://localhost:8080/"
    },
    "id": "L_ij6-E-HOHm",
    "outputId": "a4872c78-a88d-4cf0-8a62-75ae1021edca"
   },
   "outputs": [
    {
     "data": {
      "text/plain": [
       "24     786\n",
       "10     415\n",
       "26     303\n",
       "25     294\n",
       "23     283\n",
       "22     246\n",
       "17     204\n",
       "28     186\n",
       "1      163\n",
       "27     117\n",
       "15      74\n",
       "2       44\n",
       "20      35\n",
       "19      31\n",
       "29       8\n",
       "43       2\n",
       "“24      1\n",
       "Name: category_id, dtype: int64"
      ]
     },
     "execution_count": 21,
     "metadata": {
      "tags": []
     },
     "output_type": "execute_result"
    }
   ],
   "source": [
    "data['category_id'].value_counts()"
   ]
  },
  {
   "cell_type": "code",
   "execution_count": 22,
   "metadata": {
    "id": "o_rYvT-YIJt4"
   },
   "outputs": [],
   "source": [
    "data.category_id.replace(\"“24\", '24', inplace=True)"
   ]
  },
  {
   "cell_type": "code",
   "execution_count": 23,
   "metadata": {
    "colab": {
     "base_uri": "https://localhost:8080/"
    },
    "id": "tO7F2ctRIvG1",
    "outputId": "90739ff5-fd63-47d9-a3b0-ac5328e22ca0"
   },
   "outputs": [
    {
     "data": {
      "text/plain": [
       "array(['22', '24', '23', '28', '1', '25', '17', '10', '15', '27', '26',\n",
       "       '2', '19', '20', nan, '29', '43'], dtype=object)"
      ]
     },
     "execution_count": 23,
     "metadata": {
      "tags": []
     },
     "output_type": "execute_result"
    }
   ],
   "source": [
    "data['category_id'].unique()"
   ]
  },
  {
   "cell_type": "code",
   "execution_count": 24,
   "metadata": {
    "colab": {
     "base_uri": "https://localhost:8080/"
    },
    "id": "sEd4fBefJCdK",
    "outputId": "45a2e780-3fb6-494b-f675-77a3ae946e45"
   },
   "outputs": [
    {
     "data": {
      "text/plain": [
       "24    787\n",
       "10    415\n",
       "26    303\n",
       "25    294\n",
       "23    283\n",
       "22    246\n",
       "17    204\n",
       "28    186\n",
       "1     163\n",
       "27    117\n",
       "15     74\n",
       "2      44\n",
       "20     35\n",
       "19     31\n",
       "29      8\n",
       "43      2\n",
       "Name: category_id, dtype: int64"
      ]
     },
     "execution_count": 24,
     "metadata": {
      "tags": []
     },
     "output_type": "execute_result"
    }
   ],
   "source": [
    "data['category_id'].value_counts()"
   ]
  },
  {
   "cell_type": "code",
   "execution_count": 25,
   "metadata": {
    "colab": {
     "base_uri": "https://localhost:8080/",
     "height": 369
    },
    "id": "KhhK0JBjHViS",
    "outputId": "21e6a3c8-7def-49f6-c9d4-fc5b17006700"
   },
   "outputs": [
    {
     "data": {
      "text/plain": [
       "Text(0.5, 1.0, 'Frequency of every category in category_id')"
      ]
     },
     "execution_count": 25,
     "metadata": {
      "tags": []
     },
     "output_type": "execute_result"
    },
    {
     "data": {
      "image/png": "[encoded data removed]",
      "text/plain": [
       "<Figure size 576x360 with 1 Axes>"
      ]
     },
     "metadata": {
      "needs_background": "light",
      "tags": []
     },
     "output_type": "display_data"
    }
   ],
   "source": [
    "#let's plot it\n",
    "plt.figure(figsize=(8, 5))\n",
    "sns.countplot(data['category_id'])\n",
    "plt.title('Frequency of every category in category_id')"
   ]
  },
  {
   "cell_type": "code",
   "execution_count": 26,
   "metadata": {
    "colab": {
     "base_uri": "https://localhost:8080/"
    },
    "id": "-Z0n9jVDI4J_",
    "outputId": "6929c833-5813-43df-c22e-d7c320c7b890"
   },
   "outputs": [
    {
     "name": "stdout",
     "output_type": "stream",
     "text": [
      "Null values in \"category_id\" column:  6\n"
     ]
    }
   ],
   "source": [
    "print('Null values in \"category_id\" column: ', sum(data['category_id'].isnull()))"
   ]
  },
  {
   "cell_type": "code",
   "execution_count": 27,
   "metadata": {
    "id": "7PNiEBDxJQZf"
   },
   "outputs": [],
   "source": [
    "#Imputing null values with mode of the column category_id\n",
    "data.category_id.fillna(data.category_id.mode()[0], inplace=True)"
   ]
  },
  {
   "cell_type": "code",
   "execution_count": 28,
   "metadata": {
    "colab": {
     "base_uri": "https://localhost:8080/"
    },
    "id": "UnrT0_bkJ79E",
    "outputId": "9dfbbc31-ea5b-41ec-8822-00020a683ae8"
   },
   "outputs": [
    {
     "data": {
      "text/plain": [
       "array(['22', '24', '23', '28', '1', '25', '17', '10', '15', '27', '26',\n",
       "       '2', '19', '20', '29', '43'], dtype=object)"
      ]
     },
     "execution_count": 28,
     "metadata": {
      "tags": []
     },
     "output_type": "execute_result"
    }
   ],
   "source": [
    "data['category_id'].unique()"
   ]
  },
  {
   "cell_type": "code",
   "execution_count": 30,
   "metadata": {
    "colab": {
     "base_uri": "https://localhost:8080/"
    },
    "id": "sSwrR9H4L66B",
    "outputId": "5f2666a4-fef4-4693-de3f-973257e345dc"
   },
   "outputs": [
    {
     "data": {
      "text/plain": [
       "video_id\n",
       "HDR9SQc79              CaseyNeistat\n",
       "KNH52UF?48          LastWeekTonight\n",
       "QTW28IRG36             Rudy Mancuso\n",
       "MGL76WI]26    Good Mythical Morning\n",
       "TWP93KXT70                 nigahiga\n",
       "                      ...          \n",
       "OKR48DOE67           EA SPORTS FIFA\n",
       "QJK69DS?91            JackWhiteVEVO\n",
       "VHF51NVr11           JamesBlakeVEVO\n",
       "XHU22OAJ39               Refinery29\n",
       "IFD79NSG47                  MN khan\n",
       "Name: channel_title, Length: 3198, dtype: object"
      ]
     },
     "execution_count": 30,
     "metadata": {
      "tags": []
     },
     "output_type": "execute_result"
    }
   ],
   "source": [
    "#Now let's analyse channel_title column\n",
    "data['channel_title']"
   ]
  },
  {
   "cell_type": "code",
   "execution_count": 31,
   "metadata": {
    "colab": {
     "base_uri": "https://localhost:8080/"
    },
    "id": "Ocb9BvyOVgKK",
    "outputId": "40e3e44b-f7dd-4547-adbd-49d78d79b2bd"
   },
   "outputs": [
    {
     "data": {
      "text/plain": [
       "Refinery29                                34\n",
       "The Tonight Show Starring Jimmy Fallon    34\n",
       "TheEllenShow                              29\n",
       "Vox                                       29\n",
       "NFL                                       28\n",
       "                                          ..\n",
       "TromaMovies                                1\n",
       "Dj Earworm                                 1\n",
       "Passenger                                  1\n",
       "FrenchMontanaVEVO                          1\n",
       "yovo68                                     1\n",
       "Name: channel_title, Length: 1501, dtype: int64"
      ]
     },
     "execution_count": 31,
     "metadata": {
      "tags": []
     },
     "output_type": "execute_result"
    }
   ],
   "source": [
    "data['channel_title'].value_counts()"
   ]
  },
  {
   "cell_type": "code",
   "execution_count": 32,
   "metadata": {
    "id": "yDCznj3j8QBl"
   },
   "outputs": [],
   "source": [
    "#So it seems like the variable channel_title is not going to contribute much for the \n",
    "#prediction of number of views on that video. We can drop this column\n",
    "data.drop('channel_title', axis=1, inplace=True)"
   ]
  },
  {
   "cell_type": "code",
   "execution_count": 34,
   "metadata": {
    "colab": {
     "base_uri": "https://localhost:8080/"
    },
    "id": "Kzb0-PYB_tvI",
    "outputId": "92d131be-a35b-4ba3-99aa-56252cb7a0e1"
   },
   "outputs": [
    {
     "data": {
      "text/plain": [
       "count         3175.000\n",
       "mean       3823980.791\n",
       "std       28657707.858\n",
       "min              0.000\n",
       "25%         242880.000\n",
       "50%        1241220.000\n",
       "75%        3812621.500\n",
       "max     1576229455.000\n",
       "Name: subscriber, dtype: float64"
      ]
     },
     "execution_count": 34,
     "metadata": {
      "tags": []
     },
     "output_type": "execute_result"
    }
   ],
   "source": [
    "#analysing subscriber column\n",
    "data['subscriber'].describe()"
   ]
  },
  {
   "cell_type": "code",
   "execution_count": 35,
   "metadata": {
    "colab": {
     "base_uri": "https://localhost:8080/",
     "height": 297
    },
    "id": "KEo8dKvEAt1E",
    "outputId": "96871c46-9766-4e97-f7dd-abb65a0f6439"
   },
   "outputs": [
    {
     "data": {
      "text/plain": [
       "<matplotlib.axes._subplots.AxesSubplot at 0x7f678157f8d0>"
      ]
     },
     "execution_count": 35,
     "metadata": {
      "tags": []
     },
     "output_type": "execute_result"
    },
    {
     "data": {
      "image/png": "[encoded data removed]",
      "text/plain": [
       "<Figure size 432x288 with 1 Axes>"
      ]
     },
     "metadata": {
      "needs_background": "light",
      "tags": []
     },
     "output_type": "display_data"
    }
   ],
   "source": [
    "sns.boxplot(data['subscriber'])"
   ]
  },
  {
   "cell_type": "code",
   "execution_count": 36,
   "metadata": {
    "id": "-MKqRLw4BYBi"
   },
   "outputs": [],
   "source": [
    "#There are very large outliers here. Removing the outlier\n",
    "data.drop(list(data[data['subscriber'] > data.subscriber.quantile(.999)].index), inplace=True)"
   ]
  },
  {
   "cell_type": "code",
   "execution_count": 37,
   "metadata": {
    "colab": {
     "base_uri": "https://localhost:8080/",
     "height": 297
    },
    "id": "ZVeqIUzABukn",
    "outputId": "3b48e0f7-525e-444c-a249-28e59cc2e09d"
   },
   "outputs": [
    {
     "data": {
      "text/plain": [
       "<matplotlib.axes._subplots.AxesSubplot at 0x7f6781055550>"
      ]
     },
     "execution_count": 37,
     "metadata": {
      "tags": []
     },
     "output_type": "execute_result"
    },
    {
     "data": {
      "image/png": "[encoded data removed]",
      "text/plain": [
       "<Figure size 432x288 with 1 Axes>"
      ]
     },
     "metadata": {
      "needs_background": "light",
      "tags": []
     },
     "output_type": "display_data"
    }
   ],
   "source": [
    "sns.boxplot(data.subscriber)"
   ]
  },
  {
   "cell_type": "code",
   "execution_count": 38,
   "metadata": {
    "id": "rnohZHdkG1Rs"
   },
   "outputs": [],
   "source": [
    "#imputing null values with mean\n",
    "data.subscriber.fillna(int(data.subscriber.mean()), inplace=True)"
   ]
  },
  {
   "cell_type": "code",
   "execution_count": 40,
   "metadata": {
    "id": "5R0zZZi3JXoc"
   },
   "outputs": [],
   "source": [
    "#Droping the title, tags and description column as tag_appeared in title variable\n",
    "#can be used for views prediction instead of these three\n",
    "data.drop(columns=['title', 'tags', 'description'], inplace=True)"
   ]
  },
  {
   "cell_type": "code",
   "execution_count": 41,
   "metadata": {
    "colab": {
     "base_uri": "https://localhost:8080/"
    },
    "id": "Mg1ERYzHNYTX",
    "outputId": "cd55d753-5af9-4def-c94b-4d9f564f0441"
   },
   "outputs": [
    {
     "data": {
      "text/plain": [
       "1"
      ]
     },
     "execution_count": 41,
     "metadata": {
      "tags": []
     },
     "output_type": "execute_result"
    }
   ],
   "source": [
    "sum(data.trend_day_count.isnull())"
   ]
  },
  {
   "cell_type": "code",
   "execution_count": 42,
   "metadata": {
    "id": "713hKCAFNdqN"
   },
   "outputs": [],
   "source": [
    "data = data[~data.trend_day_count.isnull()]"
   ]
  },
  {
   "cell_type": "code",
   "execution_count": 43,
   "metadata": {
    "colab": {
     "base_uri": "https://localhost:8080/"
    },
    "id": "vU5EXe31N4RK",
    "outputId": "0e87a7ac-6a15-4fa8-f46c-9dbf070841b2"
   },
   "outputs": [
    {
     "data": {
      "text/plain": [
       "count   3194.000\n",
       "mean       7.964\n",
       "std       78.593\n",
       "min        0.000\n",
       "25%        4.000\n",
       "50%        7.000\n",
       "75%       10.000\n",
       "max     4444.000\n",
       "Name: trend_day_count, dtype: float64"
      ]
     },
     "execution_count": 43,
     "metadata": {
      "tags": []
     },
     "output_type": "execute_result"
    }
   ],
   "source": [
    "data.trend_day_count.describe()"
   ]
  },
  {
   "cell_type": "code",
   "execution_count": 44,
   "metadata": {
    "id": "UxHODyCMORqQ"
   },
   "outputs": [],
   "source": [
    "data = data[data.trend_day_count != 4444]"
   ]
  },
  {
   "cell_type": "code",
   "execution_count": 45,
   "metadata": {
    "colab": {
     "base_uri": "https://localhost:8080/"
    },
    "id": "O-IFSMUPRX90",
    "outputId": "a5f2cce0-23a2-43dd-8c7a-3697c8ea1b43"
   },
   "outputs": [
    {
     "data": {
      "text/plain": [
       "array(['21', '23', '22', '17', '15', '9', '14', '20', '8', '10', '18',\n",
       "       '19', '25', '12', '24', '16', '11', '13', '3222', '3225', nan, '0'],\n",
       "      dtype=object)"
      ]
     },
     "execution_count": 45,
     "metadata": {
      "tags": []
     },
     "output_type": "execute_result"
    }
   ],
   "source": [
    "data.tag_count.unique()"
   ]
  },
  {
   "cell_type": "code",
   "execution_count": 46,
   "metadata": {
    "colab": {
     "base_uri": "https://localhost:8080/"
    },
    "id": "eaO0Q1ACUxdg",
    "outputId": "74709778-9ce2-451d-bd96-8de14ca161c7"
   },
   "outputs": [
    {
     "data": {
      "text/plain": [
       "1"
      ]
     },
     "execution_count": 46,
     "metadata": {
      "tags": []
     },
     "output_type": "execute_result"
    }
   ],
   "source": [
    "sum(data.tag_count.isnull())"
   ]
  },
  {
   "cell_type": "code",
   "execution_count": 47,
   "metadata": {
    "id": "lxxXtInOR0tl"
   },
   "outputs": [],
   "source": [
    "data = data[~data.tag_count.isnull()]"
   ]
  },
  {
   "cell_type": "code",
   "execution_count": 48,
   "metadata": {
    "id": "3O9rw632Ua98"
   },
   "outputs": [],
   "source": [
    "data = data[~data.tag_count.isin(['3225', '3222'])]"
   ]
  },
  {
   "cell_type": "code",
   "execution_count": 49,
   "metadata": {
    "colab": {
     "base_uri": "https://localhost:8080/"
    },
    "id": "vmlJCdu0UdWB",
    "outputId": "17b55f6d-1caf-4159-b294-15d187bcc3b3"
   },
   "outputs": [
    {
     "data": {
      "text/plain": [
       "array(['21', '23', '22', '17', '15', '9', '14', '20', '8', '10', '18',\n",
       "       '19', '25', '12', '24', '16', '11', '13', '0'], dtype=object)"
      ]
     },
     "execution_count": 49,
     "metadata": {
      "tags": []
     },
     "output_type": "execute_result"
    }
   ],
   "source": [
    "data.tag_count.unique()"
   ]
  },
  {
   "cell_type": "code",
   "execution_count": 50,
   "metadata": {
    "id": "VK_O5IYuV3M-"
   },
   "outputs": [],
   "source": [
    "data.tag_count = data.tag_count.astype(int)"
   ]
  },
  {
   "cell_type": "code",
   "execution_count": 51,
   "metadata": {
    "colab": {
     "base_uri": "https://localhost:8080/"
    },
    "id": "xB8Z1iZOWZKl",
    "outputId": "20bdffca-5900-4b77-a2c3-c1498c8faa18"
   },
   "outputs": [
    {
     "data": {
      "text/plain": [
       "count     3189\n",
       "unique       9\n",
       "top          3\n",
       "freq       473\n",
       "Name: trend_tag_count, dtype: object"
      ]
     },
     "execution_count": 51,
     "metadata": {
      "tags": []
     },
     "output_type": "execute_result"
    }
   ],
   "source": [
    "data.trend_tag_count.describe()"
   ]
  },
  {
   "cell_type": "code",
   "execution_count": 52,
   "metadata": {
    "colab": {
     "base_uri": "https://localhost:8080/"
    },
    "id": "2pTK41g9XdoM",
    "outputId": "05bb2f75-60e4-4e48-a5a8-26d0ba952956"
   },
   "outputs": [
    {
     "data": {
      "text/plain": [
       "array(['6', '1', '3', '5', '7', '2', '4', nan, '>', '9903'], dtype=object)"
      ]
     },
     "execution_count": 52,
     "metadata": {
      "tags": []
     },
     "output_type": "execute_result"
    }
   ],
   "source": [
    "data.trend_tag_count.unique()"
   ]
  },
  {
   "cell_type": "code",
   "execution_count": 53,
   "metadata": {
    "colab": {
     "base_uri": "https://localhost:8080/"
    },
    "id": "6Gz63eOqXlkP",
    "outputId": "793ee4df-41a3-48af-e37c-3e6e8f137baf"
   },
   "outputs": [
    {
     "data": {
      "text/plain": [
       "3       473\n",
       "6       473\n",
       "2       460\n",
       "5       459\n",
       "4       449\n",
       "7       444\n",
       "1       429\n",
       "9903      1\n",
       ">         1\n",
       "Name: trend_tag_count, dtype: int64"
      ]
     },
     "execution_count": 53,
     "metadata": {
      "tags": []
     },
     "output_type": "execute_result"
    }
   ],
   "source": [
    "data.trend_tag_count.value_counts()"
   ]
  },
  {
   "cell_type": "code",
   "execution_count": 54,
   "metadata": {
    "id": "RKp616fiX0EH"
   },
   "outputs": [],
   "source": [
    "data = data[~data.trend_tag_count.isin(['>', '9903'])]"
   ]
  },
  {
   "cell_type": "code",
   "execution_count": 55,
   "metadata": {
    "id": "GW652IBmYBDa"
   },
   "outputs": [],
   "source": [
    "data = data[~data.trend_tag_count.isnull()]\n",
    "data.trend_tag_count = data.trend_tag_count.astype(int)"
   ]
  },
  {
   "cell_type": "code",
   "execution_count": 57,
   "metadata": {
    "colab": {
     "base_uri": "https://localhost:8080/"
    },
    "id": "HJRKlVcjYTTk",
    "outputId": "ce811524-7955-4485-e0b3-8540b6c67909"
   },
   "outputs": [
    {
     "data": {
      "text/plain": [
       "count     3187\n",
       "unique    2166\n",
       "top           \n",
       "freq      1012\n",
       "Name: comment_count, dtype: object"
      ]
     },
     "execution_count": 57,
     "metadata": {
      "tags": []
     },
     "output_type": "execute_result"
    }
   ],
   "source": [
    "data.comment_count.describe()"
   ]
  },
  {
   "cell_type": "code",
   "execution_count": 58,
   "metadata": {
    "id": "etBrIsWGYjvv"
   },
   "outputs": [],
   "source": [
    "data.comment_disabled.replace({'TRUE': True, 'FALSE': False}, inplace=True)"
   ]
  },
  {
   "cell_type": "code",
   "execution_count": 59,
   "metadata": {
    "colab": {
     "base_uri": "https://localhost:8080/"
    },
    "id": "xJsWo3bOYo2P",
    "outputId": "57179f30-3895-46bd-84bd-47632f947243"
   },
   "outputs": [
    {
     "data": {
      "text/plain": [
       "count     3187\n",
       "unique       2\n",
       "top       True\n",
       "freq      2175\n",
       "Name: comment_disabled, dtype: object"
      ]
     },
     "execution_count": 59,
     "metadata": {
      "tags": []
     },
     "output_type": "execute_result"
    }
   ],
   "source": [
    "data.comment_disabled.describe()"
   ]
  },
  {
   "cell_type": "code",
   "execution_count": 60,
   "metadata": {
    "id": "SlYyBHJBZOti"
   },
   "outputs": [],
   "source": [
    "comment_count = np.where(data.comment_disabled, data.comment_count, 0).astype(int)"
   ]
  },
  {
   "cell_type": "code",
   "execution_count": 63,
   "metadata": {
    "id": "B2GhHHuHajHP"
   },
   "outputs": [],
   "source": [
    "data.comment_count = comment_count"
   ]
  },
  {
   "cell_type": "code",
   "execution_count": 64,
   "metadata": {
    "colab": {
     "base_uri": "https://localhost:8080/"
    },
    "id": "No0DUoe7a8vu",
    "outputId": "e6850deb-b9ab-49ae-ffc6-9b8f68e25ea3"
   },
   "outputs": [
    {
     "data": {
      "text/plain": [
       "count     3187.000\n",
       "mean    112515.924\n",
       "std     101893.166\n",
       "min          0.000\n",
       "25%          0.000\n",
       "50%      99490.000\n",
       "75%     203279.000\n",
       "max     299877.000\n",
       "Name: comment_count, dtype: float64"
      ]
     },
     "execution_count": 64,
     "metadata": {
      "tags": []
     },
     "output_type": "execute_result"
    }
   ],
   "source": [
    "data.comment_count.describe()"
   ]
  },
  {
   "cell_type": "code",
   "execution_count": 65,
   "metadata": {
    "id": "GIeGizAlbc0l"
   },
   "outputs": [],
   "source": [
    "data.drop('comment_disabled', axis=1, inplace=True)"
   ]
  },
  {
   "cell_type": "code",
   "execution_count": 66,
   "metadata": {
    "id": "Ur2cgK10bfqw"
   },
   "outputs": [],
   "source": [
    "data.replace({'TRUE':True, 'FALSE':False}, inplace=True)"
   ]
  },
  {
   "cell_type": "code",
   "execution_count": 67,
   "metadata": {
    "colab": {
     "base_uri": "https://localhost:8080/"
    },
    "id": "Qum1S3QDcyKZ",
    "outputId": "797aa757-a51e-462e-901c-89a5f4fe0771"
   },
   "outputs": [
    {
     "data": {
      "text/plain": [
       "count      3187\n",
       "unique        2\n",
       "top       False\n",
       "freq       2348\n",
       "Name: like dislike disabled, dtype: object"
      ]
     },
     "execution_count": 67,
     "metadata": {
      "tags": []
     },
     "output_type": "execute_result"
    }
   ],
   "source": [
    "data['like dislike disabled'].describe()"
   ]
  },
  {
   "cell_type": "code",
   "execution_count": 68,
   "metadata": {
    "colab": {
     "base_uri": "https://localhost:8080/"
    },
    "id": "Hqq-4fU3c2ce",
    "outputId": "7f743ada-650c-4e33-8f16-797dc1c93f76"
   },
   "outputs": [
    {
     "data": {
      "text/plain": [
       "count     3187\n",
       "unique    2204\n",
       "top          0\n",
       "freq       839\n",
       "Name: likes, dtype: object"
      ]
     },
     "execution_count": 68,
     "metadata": {
      "tags": []
     },
     "output_type": "execute_result"
    }
   ],
   "source": [
    "data.likes.describe()"
   ]
  },
  {
   "cell_type": "code",
   "execution_count": 69,
   "metadata": {
    "colab": {
     "base_uri": "https://localhost:8080/"
    },
    "id": "3oM3yvdodN56",
    "outputId": "33302a6a-01b1-4aeb-eac8-1689a7070311"
   },
   "outputs": [
    {
     "data": {
      "text/plain": [
       "0"
      ]
     },
     "execution_count": 69,
     "metadata": {
      "tags": []
     },
     "output_type": "execute_result"
    }
   ],
   "source": [
    "sum(data.likes.isnull())"
   ]
  },
  {
   "cell_type": "code",
   "execution_count": 70,
   "metadata": {
    "colab": {
     "base_uri": "https://localhost:8080/"
    },
    "id": "84xjqPFidbHw",
    "outputId": "0e675d8a-8780-404d-e50c-4eeb24d34947"
   },
   "outputs": [
    {
     "data": {
      "text/plain": [
       "count     3187\n",
       "unique    2149\n",
       "top          0\n",
       "freq       840\n",
       "Name: dislike, dtype: object"
      ]
     },
     "execution_count": 70,
     "metadata": {
      "tags": []
     },
     "output_type": "execute_result"
    }
   ],
   "source": [
    "data.dislike.describe()"
   ]
  },
  {
   "cell_type": "code",
   "execution_count": 71,
   "metadata": {
    "colab": {
     "base_uri": "https://localhost:8080/"
    },
    "id": "cbbxZR5EdesV",
    "outputId": "5cd7224a-bde6-4ce7-e6f1-d6288b3f1483"
   },
   "outputs": [
    {
     "data": {
      "text/plain": [
       "0"
      ]
     },
     "execution_count": 71,
     "metadata": {
      "tags": []
     },
     "output_type": "execute_result"
    }
   ],
   "source": [
    "sum(data.dislike.isnull())"
   ]
  },
  {
   "cell_type": "code",
   "execution_count": 75,
   "metadata": {
    "id": "VcAkdivSdkWv"
   },
   "outputs": [],
   "source": [
    "data.likes = data.likes.astype(int)\n",
    "data.dislike = data.dislike.astype(int)\n",
    "data.subscriber = data.subscriber.astype(int)\n",
    "data.trend_day_count = data.trend_day_count.astype(int)"
   ]
  },
  {
   "cell_type": "code",
   "execution_count": 74,
   "metadata": {
    "id": "Pn4cAlMddw_h"
   },
   "outputs": [],
   "source": [
    "data.drop('like dislike disabled', axis=1, inplace=True)"
   ]
  },
  {
   "cell_type": "code",
   "execution_count": 76,
   "metadata": {
    "id": "a5u8Ac17eLkb"
   },
   "outputs": [],
   "source": [
    "data['tag appered in title'].replace({True:1, False:0}, inplace=True)"
   ]
  },
  {
   "cell_type": "code",
   "execution_count": 77,
   "metadata": {
    "id": "ATrotZvlewO5"
   },
   "outputs": [],
   "source": [
    "data = data[~data['tag appered in title'].isnull()]"
   ]
  },
  {
   "cell_type": "code",
   "execution_count": 78,
   "metadata": {
    "id": "PoqmfQR5eZE0"
   },
   "outputs": [],
   "source": [
    "data['tag appered in title'] = data['tag appered in title'].astype(int)"
   ]
  },
  {
   "cell_type": "code",
   "execution_count": 79,
   "metadata": {
    "colab": {
     "base_uri": "https://localhost:8080/"
    },
    "id": "Jo8OKAqLfdbr",
    "outputId": "9080d781-7986-4920-d881-26a7c25e92b2"
   },
   "outputs": [
    {
     "data": {
      "text/plain": [
       "video_id\n",
       "HDR9SQc79     0\n",
       "KNH52UF?48    0\n",
       "QTW28IRG36    1\n",
       "MGL76WI]26    1\n",
       "TWP93KXT70    1\n",
       "             ..\n",
       "OKR48DOE67    0\n",
       "QJK69DS?91    1\n",
       "VHF51NVr11    1\n",
       "XHU22OAJ39    1\n",
       "IFD79NSG47    1\n",
       "Name: tag appered in title, Length: 3186, dtype: int64"
      ]
     },
     "execution_count": 79,
     "metadata": {
      "tags": []
     },
     "output_type": "execute_result"
    }
   ],
   "source": [
    "data['tag appered in title']"
   ]
  },
  {
   "cell_type": "code",
   "execution_count": 80,
   "metadata": {
    "colab": {
     "base_uri": "https://localhost:8080/",
     "height": 305
    },
    "id": "MrE6jo5JfUDm",
    "outputId": "4d15aaca-f89b-4f19-fc64-a78a87cfa35e"
   },
   "outputs": [
    {
     "data": {
      "text/html": [
       "<div>\n",
       "<style scoped>\n",
       "    .dataframe tbody tr th:only-of-type {\n",
       "        vertical-align: middle;\n",
       "    }\n",
       "\n",
       "    .dataframe tbody tr th {\n",
       "        vertical-align: top;\n",
       "    }\n",
       "\n",
       "    .dataframe thead th {\n",
       "        text-align: right;\n",
       "    }\n",
       "</style>\n",
       "<table border=\"1\" class=\"dataframe\">\n",
       "  <thead>\n",
       "    <tr style=\"text-align: right;\">\n",
       "      <th></th>\n",
       "      <th>category_id</th>\n",
       "      <th>subscriber</th>\n",
       "      <th>trend_day_count</th>\n",
       "      <th>tag_count</th>\n",
       "      <th>trend_tag_count</th>\n",
       "      <th>comment_count</th>\n",
       "      <th>likes</th>\n",
       "      <th>dislike</th>\n",
       "      <th>tag appered in title</th>\n",
       "      <th>views</th>\n",
       "    </tr>\n",
       "    <tr>\n",
       "      <th>video_id</th>\n",
       "      <th></th>\n",
       "      <th></th>\n",
       "      <th></th>\n",
       "      <th></th>\n",
       "      <th></th>\n",
       "      <th></th>\n",
       "      <th></th>\n",
       "      <th></th>\n",
       "      <th></th>\n",
       "      <th></th>\n",
       "    </tr>\n",
       "  </thead>\n",
       "  <tbody>\n",
       "    <tr>\n",
       "      <th>HDR9SQc79</th>\n",
       "      <td>22</td>\n",
       "      <td>9086142</td>\n",
       "      <td>6</td>\n",
       "      <td>21</td>\n",
       "      <td>6</td>\n",
       "      <td>0</td>\n",
       "      <td>13342</td>\n",
       "      <td>6089</td>\n",
       "      <td>0</td>\n",
       "      <td>1978978</td>\n",
       "    </tr>\n",
       "    <tr>\n",
       "      <th>KNH52UF?48</th>\n",
       "      <td>24</td>\n",
       "      <td>5937292</td>\n",
       "      <td>1</td>\n",
       "      <td>23</td>\n",
       "      <td>1</td>\n",
       "      <td>116266</td>\n",
       "      <td>5761</td>\n",
       "      <td>3044</td>\n",
       "      <td>0</td>\n",
       "      <td>1487870</td>\n",
       "    </tr>\n",
       "    <tr>\n",
       "      <th>QTW28IRG36</th>\n",
       "      <td>23</td>\n",
       "      <td>4191209</td>\n",
       "      <td>10</td>\n",
       "      <td>22</td>\n",
       "      <td>3</td>\n",
       "      <td>257850</td>\n",
       "      <td>0</td>\n",
       "      <td>0</td>\n",
       "      <td>1</td>\n",
       "      <td>1502102</td>\n",
       "    </tr>\n",
       "    <tr>\n",
       "      <th>MGL76WI]26</th>\n",
       "      <td>24</td>\n",
       "      <td>13186408</td>\n",
       "      <td>12</td>\n",
       "      <td>17</td>\n",
       "      <td>5</td>\n",
       "      <td>263939</td>\n",
       "      <td>0</td>\n",
       "      <td>0</td>\n",
       "      <td>1</td>\n",
       "      <td>3519302</td>\n",
       "    </tr>\n",
       "    <tr>\n",
       "      <th>TWP93KXT70</th>\n",
       "      <td>24</td>\n",
       "      <td>20563106</td>\n",
       "      <td>11</td>\n",
       "      <td>15</td>\n",
       "      <td>7</td>\n",
       "      <td>268085</td>\n",
       "      <td>0</td>\n",
       "      <td>0</td>\n",
       "      <td>1</td>\n",
       "      <td>4835374</td>\n",
       "    </tr>\n",
       "  </tbody>\n",
       "</table>\n",
       "</div>"
      ],
      "text/plain": [
       "           category_id  subscriber  trend_day_count  tag_count  \\\n",
       "video_id                                                         \n",
       "HDR9SQc79           22     9086142                6         21   \n",
       "KNH52UF?48          24     5937292                1         23   \n",
       "QTW28IRG36          23     4191209               10         22   \n",
       "MGL76WI]26          24    13186408               12         17   \n",
       "TWP93KXT70          24    20563106               11         15   \n",
       "\n",
       "            trend_tag_count  comment_count  likes  dislike  \\\n",
       "video_id                                                     \n",
       "HDR9SQc79                 6              0  13342     6089   \n",
       "KNH52UF?48                1         116266   5761     3044   \n",
       "QTW28IRG36                3         257850      0        0   \n",
       "MGL76WI]26                5         263939      0        0   \n",
       "TWP93KXT70                7         268085      0        0   \n",
       "\n",
       "            tag appered in title    views  \n",
       "video_id                                   \n",
       "HDR9SQc79                      0  1978978  \n",
       "KNH52UF?48                     0  1487870  \n",
       "QTW28IRG36                     1  1502102  \n",
       "MGL76WI]26                     1  3519302  \n",
       "TWP93KXT70                     1  4835374  "
      ]
     },
     "execution_count": 80,
     "metadata": {
      "tags": []
     },
     "output_type": "execute_result"
    }
   ],
   "source": [
    "data.head()"
   ]
  },
  {
   "cell_type": "code",
   "execution_count": 81,
   "metadata": {
    "colab": {
     "base_uri": "https://localhost:8080/"
    },
    "id": "ECsAWi0ggRHC",
    "outputId": "913603cc-ef44-4d47-a7ae-0eeb1e9a279c"
   },
   "outputs": [
    {
     "data": {
      "text/plain": [
       "count       3186\n",
       "unique      3182\n",
       "top       858323\n",
       "freq           2\n",
       "Name: views, dtype: object"
      ]
     },
     "execution_count": 81,
     "metadata": {
      "tags": []
     },
     "output_type": "execute_result"
    }
   ],
   "source": [
    "data.views.describe()"
   ]
  },
  {
   "cell_type": "code",
   "execution_count": 82,
   "metadata": {
    "colab": {
     "base_uri": "https://localhost:8080/"
    },
    "id": "EYX_WLQoggow",
    "outputId": "f6187ff4-838f-46fb-e83d-cf311301b037"
   },
   "outputs": [
    {
     "name": "stdout",
     "output_type": "stream",
     "text": [
      "#VALUE!\n"
     ]
    }
   ],
   "source": [
    "for i in data.views.unique():\n",
    "  if not i.isdigit():\n",
    "    print(i)"
   ]
  },
  {
   "cell_type": "code",
   "execution_count": 83,
   "metadata": {
    "id": "p_WXRzothzq7"
   },
   "outputs": [],
   "source": [
    "data = data[~(data['views'] == '#VALUE!')]"
   ]
  },
  {
   "cell_type": "code",
   "execution_count": 84,
   "metadata": {
    "id": "w_VfS9qdh_Jd"
   },
   "outputs": [],
   "source": [
    "data.views = data.views.astype(int)"
   ]
  },
  {
   "cell_type": "code",
   "execution_count": 85,
   "metadata": {
    "colab": {
     "base_uri": "https://localhost:8080/"
    },
    "id": "Z9OeIMQOfnjs",
    "outputId": "b2379867-0425-4c49-e85e-5f98442ebc05"
   },
   "outputs": [
    {
     "data": {
      "text/plain": [
       "array([0, 0, 0, 0, 0, 0, 0, 0, 0, 0])"
      ]
     },
     "execution_count": 85,
     "metadata": {
      "tags": []
     },
     "output_type": "execute_result"
    }
   ],
   "source": [
    "sum(data.isnull().values)"
   ]
  },
  {
   "cell_type": "code",
   "execution_count": 86,
   "metadata": {
    "colab": {
     "base_uri": "https://localhost:8080/"
    },
    "id": "VF_RjbiEftCC",
    "outputId": "4382e82d-9ac0-4ace-8ce5-2443a45a8919"
   },
   "outputs": [
    {
     "name": "stdout",
     "output_type": "stream",
     "text": [
      "<class 'pandas.core.frame.DataFrame'>\n",
      "Index: 3185 entries, HDR9SQc79 to IFD79NSG47\n",
      "Data columns (total 10 columns):\n",
      " #   Column                Non-Null Count  Dtype \n",
      "---  ------                --------------  ----- \n",
      " 0   category_id           3185 non-null   object\n",
      " 1   subscriber            3185 non-null   int64 \n",
      " 2   trend_day_count       3185 non-null   int64 \n",
      " 3   tag_count             3185 non-null   int64 \n",
      " 4   trend_tag_count       3185 non-null   int64 \n",
      " 5   comment_count         3185 non-null   int64 \n",
      " 6   likes                 3185 non-null   int64 \n",
      " 7   dislike               3185 non-null   int64 \n",
      " 8   tag appered in title  3185 non-null   int64 \n",
      " 9   views                 3185 non-null   int64 \n",
      "dtypes: int64(9), object(1)\n",
      "memory usage: 273.7+ KB\n"
     ]
    }
   ],
   "source": [
    "data.info()"
   ]
  },
  {
   "cell_type": "markdown",
   "metadata": {
    "id": "yXxXn7nkbX-M"
   },
   "source": [
    "**Analysing the data**"
   ]
  },
  {
   "cell_type": "code",
   "execution_count": 87,
   "metadata": {
    "colab": {
     "base_uri": "https://localhost:8080/",
     "height": 297
    },
    "id": "hXRSasbDbnjW",
    "outputId": "43be2646-8ea5-4ea2-e125-21e57a74af6f"
   },
   "outputs": [
    {
     "data": {
      "text/plain": [
       "<matplotlib.axes._subplots.AxesSubplot at 0x7f678167af98>"
      ]
     },
     "execution_count": 87,
     "metadata": {
      "tags": []
     },
     "output_type": "execute_result"
    },
    {
     "data": {
      "image/png": "[encoded data removed]",
      "text/plain": [
       "<Figure size 432x288 with 1 Axes>"
      ]
     },
     "metadata": {
      "needs_background": "light",
      "tags": []
     },
     "output_type": "display_data"
    }
   ],
   "source": [
    "sns.boxplot(data.views)"
   ]
  },
  {
   "cell_type": "code",
   "execution_count": 88,
   "metadata": {
    "id": "6x1dVWZK5uBH"
   },
   "outputs": [],
   "source": [
    "#removing outliers from views\n",
    "data = data[~(data.views > 1e7)]"
   ]
  },
  {
   "cell_type": "code",
   "execution_count": 100,
   "metadata": {
    "colab": {
     "base_uri": "https://localhost:8080/",
     "height": 297
    },
    "id": "AvIEI-sMd3Sm",
    "outputId": "a9106f17-eb9b-4ecd-d28e-570aee1ef44a"
   },
   "outputs": [
    {
     "data": {
      "text/plain": [
       "<matplotlib.axes._subplots.AxesSubplot at 0x7f677fdcd9b0>"
      ]
     },
     "execution_count": 100,
     "metadata": {
      "tags": []
     },
     "output_type": "execute_result"
    },
    {
     "data": {
      "image/png": "[encoded data removed]",
      "text/plain": [
       "<Figure size 432x288 with 1 Axes>"
      ]
     },
     "metadata": {
      "needs_background": "light",
      "tags": []
     },
     "output_type": "display_data"
    }
   ],
   "source": [
    "sns.boxplot(data.views)"
   ]
  },
  {
   "cell_type": "code",
   "execution_count": 104,
   "metadata": {
    "id": "Q_wtZ2n0caGz"
   },
   "outputs": [],
   "source": [
    "#normalizing and standardizing the views and subscriber variable\n",
    "data.views = (data.views - data.views.mean())/ data.views.std()\n",
    "data.subscriber = (data.subscriber - data.subscriber.mean())/data.subscriber.std()"
   ]
  },
  {
   "cell_type": "code",
   "execution_count": 145,
   "metadata": {
    "colab": {
     "base_uri": "https://localhost:8080/",
     "height": 405
    },
    "id": "RxBHtbsH8F2s",
    "outputId": "23436f72-1f35-4387-900f-e17fc813d43b"
   },
   "outputs": [
    {
     "data": {
      "text/plain": [
       "<matplotlib.axes._subplots.AxesSubplot at 0x7f6775bf8c18>"
      ]
     },
     "execution_count": 145,
     "metadata": {
      "tags": []
     },
     "output_type": "execute_result"
    },
    {
     "data": {
      "image/png": "[encoded data removed]",
      "text/plain": [
       "<Figure size 720x432 with 1 Axes>"
      ]
     },
     "metadata": {
      "needs_background": "light",
      "tags": []
     },
     "output_type": "display_data"
    }
   ],
   "source": [
    "plt.figure(figsize=(10, 6))\n",
    "sns.regplot(data.subscriber, data.views)"
   ]
  },
  {
   "cell_type": "code",
   "execution_count": 146,
   "metadata": {
    "colab": {
     "base_uri": "https://localhost:8080/"
    },
    "id": "d8xtXrU2lV11",
    "outputId": "97ee0e45-4c65-4fb6-84c8-75d651e791f0"
   },
   "outputs": [
    {
     "name": "stdout",
     "output_type": "stream",
     "text": [
      "Correlation coefficient :  0.9679486703229362\n"
     ]
    }
   ],
   "source": [
    "print('Correlation coefficient : ', data.subscriber.corr(data.views))"
   ]
  },
  {
   "cell_type": "markdown",
   "metadata": {
    "id": "CMPPWk1ue03E"
   },
   "source": [
    "Subscriber variable is an important variable to predict the number of views in video because of its strong positive linear relationship with views variable"
   ]
  },
  {
   "cell_type": "code",
   "execution_count": 113,
   "metadata": {
    "colab": {
     "base_uri": "https://localhost:8080/",
     "height": 297
    },
    "id": "ACxW23Swgy1Y",
    "outputId": "0f921050-fa24-4c78-9296-d3c3ef92a240"
   },
   "outputs": [
    {
     "data": {
      "text/plain": [
       "<matplotlib.axes._subplots.AxesSubplot at 0x7f6777d5bfd0>"
      ]
     },
     "execution_count": 113,
     "metadata": {
      "tags": []
     },
     "output_type": "execute_result"
    },
    {
     "data": {
      "image/png": "[encoded data removed]",
      "text/plain": [
       "<Figure size 432x288 with 1 Axes>"
      ]
     },
     "metadata": {
      "needs_background": "light",
      "tags": []
     },
     "output_type": "display_data"
    }
   ],
   "source": [
    "sns.boxplot(data.likes)"
   ]
  },
  {
   "cell_type": "code",
   "execution_count": 129,
   "metadata": {
    "id": "1MqO4OqLg-IH"
   },
   "outputs": [],
   "source": [
    "#removing outliers from likes variable\n",
    "data = data[~(data.likes > 0.3e6)]"
   ]
  },
  {
   "cell_type": "code",
   "execution_count": 144,
   "metadata": {
    "colab": {
     "base_uri": "https://localhost:8080/",
     "height": 405
    },
    "id": "D5pGnKNVezha",
    "outputId": "5188a729-6b43-4ab5-eff1-9a8e6af6c398"
   },
   "outputs": [
    {
     "data": {
      "text/plain": [
       "<matplotlib.axes._subplots.AxesSubplot at 0x7f6775bf8978>"
      ]
     },
     "execution_count": 144,
     "metadata": {
      "tags": []
     },
     "output_type": "execute_result"
    },
    {
     "data": {
      "image/png": "[encoded data removed]",
      "text/plain": [
       "<Figure size 720x432 with 1 Axes>"
      ]
     },
     "metadata": {
      "needs_background": "light",
      "tags": []
     },
     "output_type": "display_data"
    }
   ],
   "source": [
    "plt.figure(figsize=(10, 6))\n",
    "sns.regplot(data.likes, data.views)"
   ]
  },
  {
   "cell_type": "code",
   "execution_count": 133,
   "metadata": {
    "colab": {
     "base_uri": "https://localhost:8080/"
    },
    "id": "ukGB0leQiu85",
    "outputId": "7f79cf3a-7a4a-4619-c987-c05820ce79ce"
   },
   "outputs": [
    {
     "name": "stdout",
     "output_type": "stream",
     "text": [
      "Correlation coefficient :  0.04992902760269811\n"
     ]
    }
   ],
   "source": [
    "print('Correlation coefficient : ', data.likes.corr(data.views))"
   ]
  },
  {
   "cell_type": "markdown",
   "metadata": {
    "id": "ulCnIrK8jeGL"
   },
   "source": [
    "There is no linear relationship between the likes and views varible."
   ]
  },
  {
   "cell_type": "code",
   "execution_count": 136,
   "metadata": {
    "colab": {
     "base_uri": "https://localhost:8080/",
     "height": 297
    },
    "id": "aobONJwcj2wa",
    "outputId": "3f1ad082-f2a7-4077-f4ea-f39a9cfab9fd"
   },
   "outputs": [
    {
     "data": {
      "text/plain": [
       "<matplotlib.axes._subplots.AxesSubplot at 0x7f67779c5ac8>"
      ]
     },
     "execution_count": 136,
     "metadata": {
      "tags": []
     },
     "output_type": "execute_result"
    },
    {
     "data": {
      "image/png": "[encoded data removed]",
      "text/plain": [
       "<Figure size 432x288 with 1 Axes>"
      ]
     },
     "metadata": {
      "needs_background": "light",
      "tags": []
     },
     "output_type": "display_data"
    }
   ],
   "source": [
    "sns.boxplot(data.dislike)"
   ]
  },
  {
   "cell_type": "code",
   "execution_count": 143,
   "metadata": {
    "colab": {
     "base_uri": "https://localhost:8080/",
     "height": 405
    },
    "id": "sYMMawmSjK4I",
    "outputId": "286b4394-2ff1-4646-bd0e-fe947695271f"
   },
   "outputs": [
    {
     "data": {
      "text/plain": [
       "<matplotlib.axes._subplots.AxesSubplot at 0x7f67778b9da0>"
      ]
     },
     "execution_count": 143,
     "metadata": {
      "tags": []
     },
     "output_type": "execute_result"
    },
    {
     "data": {
      "image/png": "[encoded data removed]",
      "text/plain": [
       "<Figure size 720x432 with 1 Axes>"
      ]
     },
     "metadata": {
      "needs_background": "light",
      "tags": []
     },
     "output_type": "display_data"
    }
   ],
   "source": [
    "plt.figure(figsize=(10, 6))\n",
    "sns.regplot(data.dislike, data.views)"
   ]
  },
  {
   "cell_type": "code",
   "execution_count": 137,
   "metadata": {
    "colab": {
     "base_uri": "https://localhost:8080/"
    },
    "id": "4F8uFV5Gj_G1",
    "outputId": "2a9b5575-3d7d-432a-94b9-e9e492615663"
   },
   "outputs": [
    {
     "name": "stdout",
     "output_type": "stream",
     "text": [
      "Correlation coefficient :  0.037423291070624636\n"
     ]
    }
   ],
   "source": [
    "print('Correlation coefficient : ', data.dislike.corr(data.views))"
   ]
  },
  {
   "cell_type": "markdown",
   "metadata": {
    "id": "41dWIUF9kGJ3"
   },
   "source": [
    "There is no linear relationship between dislike and views variable."
   ]
  },
  {
   "cell_type": "code",
   "execution_count": 138,
   "metadata": {
    "colab": {
     "base_uri": "https://localhost:8080/",
     "height": 297
    },
    "id": "va9Kc01ZkOxv",
    "outputId": "555e19f6-9d08-44c5-87fd-ea409e24f63d"
   },
   "outputs": [
    {
     "data": {
      "text/plain": [
       "<matplotlib.axes._subplots.AxesSubplot at 0x7f67778ea518>"
      ]
     },
     "execution_count": 138,
     "metadata": {
      "tags": []
     },
     "output_type": "execute_result"
    },
    {
     "data": {
      "image/png": "[encoded data removed]",
      "text/plain": [
       "<Figure size 432x288 with 1 Axes>"
      ]
     },
     "metadata": {
      "needs_background": "light",
      "tags": []
     },
     "output_type": "display_data"
    }
   ],
   "source": [
    "sns.boxplot(data['comment_count'])"
   ]
  },
  {
   "cell_type": "code",
   "execution_count": 142,
   "metadata": {
    "colab": {
     "base_uri": "https://localhost:8080/",
     "height": 405
    },
    "id": "n7-W5w3TkWFz",
    "outputId": "dd149819-6d54-4538-c36b-b25a5aa448fe"
   },
   "outputs": [
    {
     "data": {
      "text/plain": [
       "<matplotlib.axes._subplots.AxesSubplot at 0x7f67778497f0>"
      ]
     },
     "execution_count": 142,
     "metadata": {
      "tags": []
     },
     "output_type": "execute_result"
    },
    {
     "data": {
      "image/png": "[encoded data removed]",
      "text/plain": [
       "<Figure size 720x432 with 1 Axes>"
      ]
     },
     "metadata": {
      "needs_background": "light",
      "tags": []
     },
     "output_type": "display_data"
    }
   ],
   "source": [
    "plt.figure(figsize=(10, 6))\n",
    "sns.regplot(data.comment_count, data.views)"
   ]
  },
  {
   "cell_type": "code",
   "execution_count": 140,
   "metadata": {
    "colab": {
     "base_uri": "https://localhost:8080/"
    },
    "id": "Iwhp61Omkego",
    "outputId": "400ff247-d84a-4e81-bd9f-10c9f0e959e1"
   },
   "outputs": [
    {
     "name": "stdout",
     "output_type": "stream",
     "text": [
      "Correlation coefficient :  0.22362700129812327\n"
     ]
    }
   ],
   "source": [
    "print('Correlation coefficient : ', data.comment_count.corr(data.views))"
   ]
  },
  {
   "cell_type": "markdown",
   "metadata": {
    "id": "OtxBsrmeks-Y"
   },
   "source": [
    "There is moderate linear positive relationship between comment_count and views variable"
   ]
  },
  {
   "cell_type": "code",
   "execution_count": 147,
   "metadata": {
    "id": "IVn4cl3uksZW"
   },
   "outputs": [],
   "source": [
    "#dropping the unrelated variables\n",
    "data.drop(['likes', 'dislike'], axis=1, inplace=True)"
   ]
  },
  {
   "cell_type": "code",
   "execution_count": 160,
   "metadata": {
    "colab": {
     "base_uri": "https://localhost:8080/",
     "height": 297
    },
    "id": "Nxpth0ok6j0P",
    "outputId": "817ac1db-b793-4293-b350-b8d37987774a"
   },
   "outputs": [
    {
     "data": {
      "text/plain": [
       "<matplotlib.axes._subplots.AxesSubplot at 0x7f6775620780>"
      ]
     },
     "execution_count": 160,
     "metadata": {
      "tags": []
     },
     "output_type": "execute_result"
    },
    {
     "data": {
      "image/png": "[encoded data removed]",
      "text/plain": [
       "<Figure size 432x288 with 1 Axes>"
      ]
     },
     "metadata": {
      "needs_background": "light",
      "tags": []
     },
     "output_type": "display_data"
    }
   ],
   "source": [
    "sns.violinplot(data['tag appered in title'], data.views)"
   ]
  },
  {
   "cell_type": "markdown",
   "metadata": {
    "id": "FrYGkvvhqBnU"
   },
   "source": [
    "This plot shows that it doesn't matter if the given tag appears in the title or not the distribution of the number of views of that respective video is independent of the tag appered in title variable. "
   ]
  },
  {
   "cell_type": "code",
   "execution_count": 162,
   "metadata": {
    "id": "QvtI7I_8qBF8"
   },
   "outputs": [],
   "source": [
    "data.drop('tag appered in title', axis=1, inplace=True)"
   ]
  },
  {
   "cell_type": "code",
   "execution_count": 167,
   "metadata": {
    "colab": {
     "base_uri": "https://localhost:8080/",
     "height": 475
    },
    "id": "WZO2Byrmqvqz",
    "outputId": "5fb60915-95d6-42da-c099-6450c82cb630"
   },
   "outputs": [
    {
     "data": {
      "text/plain": [
       "<matplotlib.axes._subplots.AxesSubplot at 0x7f6772168f60>"
      ]
     },
     "execution_count": 167,
     "metadata": {
      "tags": []
     },
     "output_type": "execute_result"
    },
    {
     "data": {
      "image/png": "[encoded data removed]",
      "text/plain": [
       "<Figure size 1080x576 with 1 Axes>"
      ]
     },
     "metadata": {
      "needs_background": "light",
      "tags": []
     },
     "output_type": "display_data"
    }
   ],
   "source": [
    "plt.figure(figsize=(15, 8))\n",
    "sns.boxplot(data.category_id, data.views)"
   ]
  },
  {
   "cell_type": "code",
   "execution_count": 168,
   "metadata": {
    "colab": {
     "base_uri": "https://localhost:8080/",
     "height": 475
    },
    "id": "SBikDepftGKv",
    "outputId": "998e5c3a-80c4-4177-a8ea-fb0634376c01"
   },
   "outputs": [
    {
     "data": {
      "text/plain": [
       "<matplotlib.axes._subplots.AxesSubplot at 0x7f6775945c50>"
      ]
     },
     "execution_count": 168,
     "metadata": {
      "tags": []
     },
     "output_type": "execute_result"
    },
    {
     "data": {
      "image/png": "[encoded data removed]",
      "text/plain": [
       "<Figure size 1080x576 with 1 Axes>"
      ]
     },
     "metadata": {
      "needs_background": "light",
      "tags": []
     },
     "output_type": "display_data"
    }
   ],
   "source": [
    "plt.figure(figsize=(15, 8))\n",
    "sns.boxplot(data.trend_day_count, data.views)"
   ]
  },
  {
   "cell_type": "code",
   "execution_count": 169,
   "metadata": {
    "colab": {
     "base_uri": "https://localhost:8080/",
     "height": 474
    },
    "id": "JQ0UM88-uaxz",
    "outputId": "52b57de8-1c7e-4082-edd6-6bc91097b776"
   },
   "outputs": [
    {
     "data": {
      "text/plain": [
       "<matplotlib.axes._subplots.AxesSubplot at 0x7f6772188a90>"
      ]
     },
     "execution_count": 169,
     "metadata": {
      "tags": []
     },
     "output_type": "execute_result"
    },
    {
     "data": {
      "image/png": "[encoded data removed]",
      "text/plain": [
       "<Figure size 1080x576 with 1 Axes>"
      ]
     },
     "metadata": {
      "needs_background": "light",
      "tags": []
     },
     "output_type": "display_data"
    }
   ],
   "source": [
    "plt.figure(figsize=(15, 8))\n",
    "sns.boxplot(data.tag_count, data.views)"
   ]
  },
  {
   "cell_type": "code",
   "execution_count": 170,
   "metadata": {
    "colab": {
     "base_uri": "https://localhost:8080/",
     "height": 475
    },
    "id": "J4rHKUYOvDYY",
    "outputId": "6b069375-4405-4ade-c66a-ff9b948ee1a9"
   },
   "outputs": [
    {
     "data": {
      "text/plain": [
       "<matplotlib.axes._subplots.AxesSubplot at 0x7f6771bbff98>"
      ]
     },
     "execution_count": 170,
     "metadata": {
      "tags": []
     },
     "output_type": "execute_result"
    },
    {
     "data": {
      "image/png": "[encoded data removed]",
      "text/plain": [
       "<Figure size 1080x576 with 1 Axes>"
      ]
     },
     "metadata": {
      "needs_background": "light",
      "tags": []
     },
     "output_type": "display_data"
    }
   ],
   "source": [
    "plt.figure(figsize=(15, 8))\n",
    "sns.boxplot(data.trend_tag_count, data.views)"
   ]
  },
  {
   "cell_type": "code",
   "execution_count": 171,
   "metadata": {
    "id": "39Oi-yRhvghR"
   },
   "outputs": [],
   "source": [
    "data.drop(['comment_count', 'trend_tag_count', 'tag_count'], axis=1, inplace=True)"
   ]
  },
  {
   "cell_type": "code",
   "execution_count": 172,
   "metadata": {
    "colab": {
     "base_uri": "https://localhost:8080/",
     "height": 233
    },
    "id": "f96_y1K6vxJa",
    "outputId": "b5c2305a-7dea-42be-d767-9956d6f46e30"
   },
   "outputs": [
    {
     "data": {
      "text/html": [
       "<div>\n",
       "<style scoped>\n",
       "    .dataframe tbody tr th:only-of-type {\n",
       "        vertical-align: middle;\n",
       "    }\n",
       "\n",
       "    .dataframe tbody tr th {\n",
       "        vertical-align: top;\n",
       "    }\n",
       "\n",
       "    .dataframe thead th {\n",
       "        text-align: right;\n",
       "    }\n",
       "</style>\n",
       "<table border=\"1\" class=\"dataframe\">\n",
       "  <thead>\n",
       "    <tr style=\"text-align: right;\">\n",
       "      <th></th>\n",
       "      <th>category_id</th>\n",
       "      <th>subscriber</th>\n",
       "      <th>trend_day_count</th>\n",
       "      <th>views</th>\n",
       "    </tr>\n",
       "    <tr>\n",
       "      <th>video_id</th>\n",
       "      <th></th>\n",
       "      <th></th>\n",
       "      <th></th>\n",
       "      <th></th>\n",
       "    </tr>\n",
       "  </thead>\n",
       "  <tbody>\n",
       "    <tr>\n",
       "      <th>HDR9SQc79</th>\n",
       "      <td>22</td>\n",
       "      <td>1.198</td>\n",
       "      <td>6</td>\n",
       "      <td>0.932</td>\n",
       "    </tr>\n",
       "    <tr>\n",
       "      <th>KNH52UF?48</th>\n",
       "      <td>24</td>\n",
       "      <td>0.553</td>\n",
       "      <td>1</td>\n",
       "      <td>0.447</td>\n",
       "    </tr>\n",
       "    <tr>\n",
       "      <th>QTW28IRG36</th>\n",
       "      <td>23</td>\n",
       "      <td>0.196</td>\n",
       "      <td>10</td>\n",
       "      <td>0.461</td>\n",
       "    </tr>\n",
       "    <tr>\n",
       "      <th>MGL76WI]26</th>\n",
       "      <td>24</td>\n",
       "      <td>2.037</td>\n",
       "      <td>12</td>\n",
       "      <td>2.454</td>\n",
       "    </tr>\n",
       "    <tr>\n",
       "      <th>TWP93KXT70</th>\n",
       "      <td>24</td>\n",
       "      <td>3.547</td>\n",
       "      <td>11</td>\n",
       "      <td>3.755</td>\n",
       "    </tr>\n",
       "  </tbody>\n",
       "</table>\n",
       "</div>"
      ],
      "text/plain": [
       "           category_id  subscriber  trend_day_count  views\n",
       "video_id                                                  \n",
       "HDR9SQc79           22       1.198                6  0.932\n",
       "KNH52UF?48          24       0.553                1  0.447\n",
       "QTW28IRG36          23       0.196               10  0.461\n",
       "MGL76WI]26          24       2.037               12  2.454\n",
       "TWP93KXT70          24       3.547               11  3.755"
      ]
     },
     "execution_count": 172,
     "metadata": {
      "tags": []
     },
     "output_type": "execute_result"
    }
   ],
   "source": [
    "data.head()"
   ]
  },
  {
   "cell_type": "code",
   "execution_count": 174,
   "metadata": {
    "id": "XWvDVBUrwmfq"
   },
   "outputs": [],
   "source": [
    "d = data.copy()"
   ]
  },
  {
   "cell_type": "code",
   "execution_count": 173,
   "metadata": {
    "colab": {
     "base_uri": "https://localhost:8080/"
    },
    "id": "jAJXr9pvv-fJ",
    "outputId": "9a4eeadc-cb5e-4b9a-c442-2a25fc9e3863"
   },
   "outputs": [
    {
     "name": "stdout",
     "output_type": "stream",
     "text": [
      "<class 'pandas.core.frame.DataFrame'>\n",
      "Index: 3180 entries, HDR9SQc79 to IFD79NSG47\n",
      "Data columns (total 4 columns):\n",
      " #   Column           Non-Null Count  Dtype  \n",
      "---  ------           --------------  -----  \n",
      " 0   category_id      3180 non-null   object \n",
      " 1   subscriber       3180 non-null   float64\n",
      " 2   trend_day_count  3180 non-null   int64  \n",
      " 3   views            3180 non-null   float64\n",
      "dtypes: float64(2), int64(1), object(1)\n",
      "memory usage: 284.2+ KB\n"
     ]
    }
   ],
   "source": [
    "data.info()"
   ]
  },
  {
   "cell_type": "markdown",
   "metadata": {
    "id": "zJxuZU1IwFma"
   },
   "source": [
    "**Model building**"
   ]
  },
  {
   "cell_type": "code",
   "execution_count": 175,
   "metadata": {
    "id": "N3fvnYGViqHV"
   },
   "outputs": [],
   "source": [
    "Y = d.pop('views').values\n",
    "X = d.values"
   ]
  },
  {
   "cell_type": "code",
   "execution_count": 176,
   "metadata": {
    "id": "ENjWJEHClxIs"
   },
   "outputs": [],
   "source": [
    "Y = Y.reshape(Y.shape[0], 1)"
   ]
  },
  {
   "cell_type": "code",
   "execution_count": 177,
   "metadata": {
    "colab": {
     "base_uri": "https://localhost:8080/"
    },
    "id": "wasXSdLTkFKu",
    "outputId": "319dbd17-1a40-4a68-f1a8-ca8ef6bbc4f7"
   },
   "outputs": [
    {
     "name": "stdout",
     "output_type": "stream",
     "text": [
      "Shape of X: (3180, 3)\n",
      "Shape of Y: (3180, 1)\n"
     ]
    }
   ],
   "source": [
    "print('Shape of X:', X.shape)\n",
    "print('Shape of Y:', Y.shape)"
   ]
  },
  {
   "cell_type": "code",
   "execution_count": 183,
   "metadata": {
    "id": "f4vIYd_jmHQq"
   },
   "outputs": [],
   "source": [
    "train_d, x_val, train_l, y_val = train_test_split(X, Y, test_size=0.05, shuffle=True)"
   ]
  },
  {
   "cell_type": "code",
   "execution_count": 184,
   "metadata": {
    "id": "yHur2uOGnw6o"
   },
   "outputs": [],
   "source": [
    "x_train, x_test, y_train, y_test = train_test_split(train_d, train_l, test_size=0.052, shuffle=True)"
   ]
  },
  {
   "cell_type": "code",
   "execution_count": 185,
   "metadata": {
    "colab": {
     "base_uri": "https://localhost:8080/"
    },
    "id": "wZsAVP6HpXb3",
    "outputId": "47a253b4-b588-4b9e-e335-c677d584505e"
   },
   "outputs": [
    {
     "name": "stdout",
     "output_type": "stream",
     "text": [
      "Shape of x_train: (2863, 3)\n",
      "Shape of y_train: (2863, 1)\n",
      "Shape of x_val: (159, 3)\n",
      "Shape of y_val: (159, 1)\n",
      "Shape of x_test: (158, 3)\n",
      "Shape of y_test: (158, 1)\n"
     ]
    }
   ],
   "source": [
    "print('Shape of x_train:', x_train.shape)\n",
    "print('Shape of y_train:', y_train.shape)\n",
    "print('Shape of x_val:', x_val.shape)\n",
    "print('Shape of y_val:', y_val.shape)\n",
    "print('Shape of x_test:', x_test.shape)\n",
    "print('Shape of y_test:', y_test.shape)"
   ]
  },
  {
   "cell_type": "code",
   "execution_count": 186,
   "metadata": {
    "colab": {
     "base_uri": "https://localhost:8080/"
    },
    "id": "oLU-hIwBxEvC",
    "outputId": "56e82088-3a31-43e2-ab35-38964f927e34"
   },
   "outputs": [
    {
     "data": {
      "text/plain": [
       "LinearRegression(copy_X=True, fit_intercept=True, n_jobs=None, normalize=False)"
      ]
     },
     "execution_count": 186,
     "metadata": {
      "tags": []
     },
     "output_type": "execute_result"
    }
   ],
   "source": [
    "reg = LinearRegression()\n",
    "reg.fit(x_train, y_train)"
   ]
  },
  {
   "cell_type": "code",
   "execution_count": 194,
   "metadata": {
    "colab": {
     "base_uri": "https://localhost:8080/"
    },
    "id": "LAY3sDdmxJ9o",
    "outputId": "4be2a31e-c036-476c-8cca-4ba4a699623a"
   },
   "outputs": [
    {
     "name": "stdout",
     "output_type": "stream",
     "text": [
      "Value of Coefficient of determination (R^2) for training data   :  0.9405429939716083\n",
      "Value of Coefficient of determination (R^2) for validation data :  0.9390023885925212\n",
      "Value of Coefficient of determination (R^2) for test data       :  0.9473669658473401\n"
     ]
    }
   ],
   "source": [
    "print('Value of Coefficient of determination (R^2) for training data   : ', reg.score(x_train, y_train))\n",
    "print('Value of Coefficient of determination (R^2) for validation data : ', reg.score(x_val, y_val))\n",
    "print('Value of Coefficient of determination (R^2) for test data       : ', reg.score(x_test, y_test))"
   ]
  },
  {
   "cell_type": "code",
   "execution_count": null,
   "metadata": {
    "id": "81TksspkwAfd"
   },
   "outputs": [],
   "source": []
  }
 ],
 "metadata": {
  "colab": {
   "collapsed_sections": [],
   "name": "Youtube_EDA.ipynb",
   "provenance": []
  },
  "kernelspec": {
   "display_name": "Python 3",
   "language": "python",
   "name": "python3"
  },
  "language_info": {
   "codemirror_mode": {
    "name": "ipython",
    "version": 3
   },
   "file_extension": ".py",
   "mimetype": "text/x-python",
   "name": "python",
   "nbconvert_exporter": "python",
   "pygments_lexer": "ipython3",
   "version": "3.8.0"
  }
 },
 "nbformat": 4,
 "nbformat_minor": 1
}
